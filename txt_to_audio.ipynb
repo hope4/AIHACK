{
 "cells": [
  {
   "cell_type": "code",
   "execution_count": 1,
   "metadata": {},
   "outputs": [],
   "source": [
    "from gtts import gTTS \n",
    "import os \n",
    "import IPython\n",
    "import pandas as pd"
   ]
  },
  {
   "cell_type": "code",
   "execution_count": 2,
   "metadata": {},
   "outputs": [],
   "source": [
    "files = os.listdir('./text1/')\n",
    "files.sort()"
   ]
  },
  {
   "cell_type": "code",
   "execution_count": null,
   "metadata": {},
   "outputs": [
    {
     "name": "stdout",
     "output_type": "stream",
     "text": [
      "Reading..file..000004.txt\n",
      "Reading..file..000009.txt\n",
      "Reading..file..000014.txt\n",
      "Reading..file..000019.txt\n",
      "Reading..file..000024.txt\n",
      "Reading..file..000029.txt\n",
      "Reading..file..000034.txt\n",
      "Reading..file..000039.txt\n",
      "Reading..file..000044.txt\n",
      "Reading..file..000049.txt\n"
     ]
    }
   ],
   "source": [
    "for l in files:\n",
    "    print(\"Reading..file..\"+str(l))\n",
    "    if l.endswith('.txt'):\n",
    "        final_list = open('./text1/'+str(l), \"r\").read()\n",
    "        TTS = gTTS(text=str(final_list), lang='en')\n",
    "        TTS.save(\"./audio1/\"+str(l[:-4])+\".mp3\")\n",
    "  "
   ]
  },
  {
   "cell_type": "code",
   "execution_count": 8,
   "metadata": {},
   "outputs": [
    {
     "name": "stdout",
     "output_type": "stream",
     "text": [
      "000004\n"
     ]
    }
   ],
   "source": [
    "path3 = '/home/shravani/Documents/overlapped/'\n",
    "img_dir2 = os.listdir(path3)\n",
    "img_dir2.sort()\n",
    "print((img_dir2[0][:-4]))"
   ]
  },
  {
   "cell_type": "code",
   "execution_count": 9,
   "metadata": {},
   "outputs": [],
   "source": [
    "from PIL import Image\n",
    "for j in range(0,len(img_dir2)):\n",
    "    im = Image.open(path3+img_dir2[j])\n",
    "    rgb_im = im.convert('RGB')\n",
    "    rgb_im.save(path3+img_dir2[j][:-4]+'.jpg')"
   ]
  },
  {
   "cell_type": "code",
   "execution_count": null,
   "metadata": {},
   "outputs": [],
   "source": []
  },
  {
   "cell_type": "code",
   "execution_count": null,
   "metadata": {},
   "outputs": [],
   "source": []
  },
  {
   "cell_type": "code",
   "execution_count": null,
   "metadata": {},
   "outputs": [],
   "source": []
  },
  {
   "cell_type": "code",
   "execution_count": null,
   "metadata": {},
   "outputs": [],
   "source": []
  },
  {
   "cell_type": "markdown",
   "metadata": {},
   "source": [
    "## reading the csv file which contains the text data"
   ]
  },
  {
   "cell_type": "code",
   "execution_count": 14,
   "metadata": {},
   "outputs": [
    {
     "data": {
      "text/html": [
       "<div>\n",
       "<style scoped>\n",
       "    .dataframe tbody tr th:only-of-type {\n",
       "        vertical-align: middle;\n",
       "    }\n",
       "\n",
       "    .dataframe tbody tr th {\n",
       "        vertical-align: top;\n",
       "    }\n",
       "\n",
       "    .dataframe thead th {\n",
       "        text-align: right;\n",
       "    }\n",
       "</style>\n",
       "<table border=\"1\" class=\"dataframe\">\n",
       "  <thead>\n",
       "    <tr style=\"text-align: right;\">\n",
       "      <th></th>\n",
       "      <th>0</th>\n",
       "    </tr>\n",
       "  </thead>\n",
       "  <tbody>\n",
       "    <tr>\n",
       "      <th>0</th>\n",
       "      <td>Hello!! Welcome to NVIDIA AI Hackathon demo of...</td>\n",
       "    </tr>\n",
       "    <tr>\n",
       "      <th>1</th>\n",
       "      <td>There is a person at a distance of 428 pixel u...</td>\n",
       "    </tr>\n",
       "    <tr>\n",
       "      <th>2</th>\n",
       "      <td>There is a person at a distance of 493 pixel u...</td>\n",
       "    </tr>\n",
       "    <tr>\n",
       "      <th>3</th>\n",
       "      <td>There is a person at a distance of 400 pixel u...</td>\n",
       "    </tr>\n",
       "    <tr>\n",
       "      <th>4</th>\n",
       "      <td>There is a traffic light at a distance of 474 ...</td>\n",
       "    </tr>\n",
       "  </tbody>\n",
       "</table>\n",
       "</div>"
      ],
      "text/plain": [
       "                                                   0\n",
       "0  Hello!! Welcome to NVIDIA AI Hackathon demo of...\n",
       "1  There is a person at a distance of 428 pixel u...\n",
       "2  There is a person at a distance of 493 pixel u...\n",
       "3  There is a person at a distance of 400 pixel u...\n",
       "4  There is a traffic light at a distance of 474 ..."
      ]
     },
     "execution_count": 14,
     "metadata": {},
     "output_type": "execute_result"
    }
   ],
   "source": [
    "txt_data = pd.read_csv('/home/sravani/AI_HACK/final_document.txt',header =None)\n",
    "txt_data.head()"
   ]
  },
  {
   "cell_type": "markdown",
   "metadata": {},
   "source": [
    "## creating separate audio files for each statement "
   ]
  },
  {
   "cell_type": "code",
   "execution_count": 16,
   "metadata": {},
   "outputs": [],
   "source": [
    "for i in range(0,len(txt_data)):\n",
    "    mytext = txt_data[0][i]\n",
    "    language = 'en'\n",
    "    myobj = gTTS(text=mytext, lang=language, slow=False) \n",
    "    myobj.save(\"test\"+str(i)+\".mp3\") \n",
    "  "
   ]
  },
  {
   "cell_type": "markdown",
   "metadata": {},
   "source": [
    "### creating a single audio file for entire text document (for one frame)"
   ]
  },
  {
   "cell_type": "code",
   "execution_count": 17,
   "metadata": {},
   "outputs": [],
   "source": [
    "final_list = open(\"/home/sravani/AI_HACK/final_document.txt\", \"r\").read()\n",
    "TTS = gTTS(text=str(final_list), lang='en')\n",
    "TTS.save(\"final_voice.mp3\")"
   ]
  },
  {
   "cell_type": "code",
   "execution_count": null,
   "metadata": {},
   "outputs": [],
   "source": []
  },
  {
   "cell_type": "code",
   "execution_count": null,
   "metadata": {},
   "outputs": [],
   "source": []
  },
  {
   "cell_type": "code",
   "execution_count": 21,
   "metadata": {},
   "outputs": [],
   "source": [
    "TTS = gTTS(text=str('Priority based audio alert system for visually impaired using pixel segmented data'), lang='en', slow=False)\n",
    "TTS.save(\"title.mp3\")"
   ]
  },
  {
   "cell_type": "code",
   "execution_count": null,
   "metadata": {},
   "outputs": [],
   "source": []
  }
 ],
 "metadata": {
  "kernelspec": {
   "display_name": "Python 2",
   "language": "python",
   "name": "python2"
  },
  "language_info": {
   "codemirror_mode": {
    "name": "ipython",
    "version": 3
   },
   "file_extension": ".py",
   "mimetype": "text/x-python",
   "name": "python",
   "nbconvert_exporter": "python",
   "pygments_lexer": "ipython3",
   "version": "3.6.8"
  }
 },
 "nbformat": 4,
 "nbformat_minor": 2
}
